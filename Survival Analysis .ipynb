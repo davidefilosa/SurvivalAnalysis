{
 "cells": [
  {
   "cell_type": "markdown",
   "id": "c87bff42",
   "metadata": {},
   "source": [
    "# What will we do in this project?\n",
    "\n",
    "### In this project we will take a look at the survival rate of patients with advanced lung cancer.\n",
    "\n",
    "Survival Analysis is very common for subscribing types of businesses and can help avoid customer churn.\n",
    "\n",
    "Let's imagine that a customer decides to cancel his subscription. Survivasl analysis helps us answer the question 'How long should I wait before trying to get the customer back?'"
   ]
  },
  {
   "cell_type": "code",
   "execution_count": 38,
   "id": "ed71b9e9",
   "metadata": {},
   "outputs": [],
   "source": [
    "# Import library\n",
    "import pandas as pd\n",
    "import numpy as np\n",
    "from lifelines import KaplanMeierFitter\n",
    "from lifelines.statistics import logrank_test\n",
    "import matplotlib.pyplot as plt"
   ]
  },
  {
   "cell_type": "code",
   "execution_count": 3,
   "id": "cdece0ba",
   "metadata": {},
   "outputs": [],
   "source": [
    "# Import the data\n",
    "df = pd.read_csv('lung.csv')"
   ]
  },
  {
   "cell_type": "code",
   "execution_count": 4,
   "id": "39bf0ef2",
   "metadata": {},
   "outputs": [
    {
     "data": {
      "text/html": [
       "<div>\n",
       "<style scoped>\n",
       "    .dataframe tbody tr th:only-of-type {\n",
       "        vertical-align: middle;\n",
       "    }\n",
       "\n",
       "    .dataframe tbody tr th {\n",
       "        vertical-align: top;\n",
       "    }\n",
       "\n",
       "    .dataframe thead th {\n",
       "        text-align: right;\n",
       "    }\n",
       "</style>\n",
       "<table border=\"1\" class=\"dataframe\">\n",
       "  <thead>\n",
       "    <tr style=\"text-align: right;\">\n",
       "      <th></th>\n",
       "      <th>inst</th>\n",
       "      <th>time</th>\n",
       "      <th>status</th>\n",
       "      <th>age</th>\n",
       "      <th>sex</th>\n",
       "      <th>ph.ecog</th>\n",
       "      <th>ph.karno</th>\n",
       "      <th>pat.karno</th>\n",
       "      <th>meal.cal</th>\n",
       "      <th>wt.loss</th>\n",
       "    </tr>\n",
       "  </thead>\n",
       "  <tbody>\n",
       "    <tr>\n",
       "      <th>0</th>\n",
       "      <td>3.0</td>\n",
       "      <td>306</td>\n",
       "      <td>2</td>\n",
       "      <td>74</td>\n",
       "      <td>1</td>\n",
       "      <td>1.0</td>\n",
       "      <td>90.0</td>\n",
       "      <td>100.0</td>\n",
       "      <td>1175.0</td>\n",
       "      <td>NaN</td>\n",
       "    </tr>\n",
       "    <tr>\n",
       "      <th>1</th>\n",
       "      <td>3.0</td>\n",
       "      <td>455</td>\n",
       "      <td>2</td>\n",
       "      <td>68</td>\n",
       "      <td>1</td>\n",
       "      <td>0.0</td>\n",
       "      <td>90.0</td>\n",
       "      <td>90.0</td>\n",
       "      <td>1225.0</td>\n",
       "      <td>15.0</td>\n",
       "    </tr>\n",
       "    <tr>\n",
       "      <th>2</th>\n",
       "      <td>3.0</td>\n",
       "      <td>1010</td>\n",
       "      <td>1</td>\n",
       "      <td>56</td>\n",
       "      <td>1</td>\n",
       "      <td>0.0</td>\n",
       "      <td>90.0</td>\n",
       "      <td>90.0</td>\n",
       "      <td>NaN</td>\n",
       "      <td>15.0</td>\n",
       "    </tr>\n",
       "    <tr>\n",
       "      <th>3</th>\n",
       "      <td>5.0</td>\n",
       "      <td>210</td>\n",
       "      <td>2</td>\n",
       "      <td>57</td>\n",
       "      <td>1</td>\n",
       "      <td>1.0</td>\n",
       "      <td>90.0</td>\n",
       "      <td>60.0</td>\n",
       "      <td>1150.0</td>\n",
       "      <td>11.0</td>\n",
       "    </tr>\n",
       "    <tr>\n",
       "      <th>4</th>\n",
       "      <td>1.0</td>\n",
       "      <td>883</td>\n",
       "      <td>2</td>\n",
       "      <td>60</td>\n",
       "      <td>1</td>\n",
       "      <td>0.0</td>\n",
       "      <td>100.0</td>\n",
       "      <td>90.0</td>\n",
       "      <td>NaN</td>\n",
       "      <td>0.0</td>\n",
       "    </tr>\n",
       "  </tbody>\n",
       "</table>\n",
       "</div>"
      ],
      "text/plain": [
       "   inst  time  status  age  sex  ph.ecog  ph.karno  pat.karno  meal.cal  \\\n",
       "0   3.0   306       2   74    1      1.0      90.0      100.0    1175.0   \n",
       "1   3.0   455       2   68    1      0.0      90.0       90.0    1225.0   \n",
       "2   3.0  1010       1   56    1      0.0      90.0       90.0       NaN   \n",
       "3   5.0   210       2   57    1      1.0      90.0       60.0    1150.0   \n",
       "4   1.0   883       2   60    1      0.0     100.0       90.0       NaN   \n",
       "\n",
       "   wt.loss  \n",
       "0      NaN  \n",
       "1     15.0  \n",
       "2     15.0  \n",
       "3     11.0  \n",
       "4      0.0  "
      ]
     },
     "execution_count": 4,
     "metadata": {},
     "output_type": "execute_result"
    }
   ],
   "source": [
    "df.head()"
   ]
  },
  {
   "cell_type": "markdown",
   "id": "027919ec",
   "metadata": {},
   "source": [
    "## How to read the data?\n",
    "\n",
    "- **inst**: Institution code\n",
    "- **time**: Survival time in days\n",
    "- **status**: censoring status 1=censored, 2=dead\n",
    "- **age**: Age in years\n",
    "- **sex**: Male=1 Female=2\n",
    "- **ph.ecog**: ECOG performance score as rated by the physician. 0=asymptomatic, 1= symptomatic but completely ambulatory, 2= in bed <50% of the day, 3= in bed > 50% of the day but not bedbound, 4 = bedbound\n",
    "- **ph.karno**: Karnofsky performance score (bad=0-good=100) rated by physician\n",
    "- **pat.karno**: Karnofsky performance score as rated by patient\n",
    "- **meal.cal**: Calories consumed at meals\n",
    "- **wt.loss**: Weight loss in last six months"
   ]
  },
  {
   "cell_type": "code",
   "execution_count": 9,
   "id": "2e8f0e7f",
   "metadata": {},
   "outputs": [],
   "source": [
    "# data transformation\n",
    "df.loc[df['status'] == 1, 'status'] = 0\n",
    "df.loc[df['status'] == 2, 'status'] = 1"
   ]
  },
  {
   "cell_type": "code",
   "execution_count": 10,
   "id": "5f78a343",
   "metadata": {},
   "outputs": [
    {
     "data": {
      "text/html": [
       "<div>\n",
       "<style scoped>\n",
       "    .dataframe tbody tr th:only-of-type {\n",
       "        vertical-align: middle;\n",
       "    }\n",
       "\n",
       "    .dataframe tbody tr th {\n",
       "        vertical-align: top;\n",
       "    }\n",
       "\n",
       "    .dataframe thead th {\n",
       "        text-align: right;\n",
       "    }\n",
       "</style>\n",
       "<table border=\"1\" class=\"dataframe\">\n",
       "  <thead>\n",
       "    <tr style=\"text-align: right;\">\n",
       "      <th></th>\n",
       "      <th>inst</th>\n",
       "      <th>time</th>\n",
       "      <th>status</th>\n",
       "      <th>age</th>\n",
       "      <th>sex</th>\n",
       "      <th>ph.ecog</th>\n",
       "      <th>ph.karno</th>\n",
       "      <th>pat.karno</th>\n",
       "      <th>meal.cal</th>\n",
       "      <th>wt.loss</th>\n",
       "    </tr>\n",
       "  </thead>\n",
       "  <tbody>\n",
       "    <tr>\n",
       "      <th>0</th>\n",
       "      <td>3.0</td>\n",
       "      <td>306</td>\n",
       "      <td>1</td>\n",
       "      <td>74</td>\n",
       "      <td>1</td>\n",
       "      <td>1.0</td>\n",
       "      <td>90.0</td>\n",
       "      <td>100.0</td>\n",
       "      <td>1175.0</td>\n",
       "      <td>NaN</td>\n",
       "    </tr>\n",
       "    <tr>\n",
       "      <th>1</th>\n",
       "      <td>3.0</td>\n",
       "      <td>455</td>\n",
       "      <td>1</td>\n",
       "      <td>68</td>\n",
       "      <td>1</td>\n",
       "      <td>0.0</td>\n",
       "      <td>90.0</td>\n",
       "      <td>90.0</td>\n",
       "      <td>1225.0</td>\n",
       "      <td>15.0</td>\n",
       "    </tr>\n",
       "    <tr>\n",
       "      <th>2</th>\n",
       "      <td>3.0</td>\n",
       "      <td>1010</td>\n",
       "      <td>0</td>\n",
       "      <td>56</td>\n",
       "      <td>1</td>\n",
       "      <td>0.0</td>\n",
       "      <td>90.0</td>\n",
       "      <td>90.0</td>\n",
       "      <td>NaN</td>\n",
       "      <td>15.0</td>\n",
       "    </tr>\n",
       "    <tr>\n",
       "      <th>3</th>\n",
       "      <td>5.0</td>\n",
       "      <td>210</td>\n",
       "      <td>1</td>\n",
       "      <td>57</td>\n",
       "      <td>1</td>\n",
       "      <td>1.0</td>\n",
       "      <td>90.0</td>\n",
       "      <td>60.0</td>\n",
       "      <td>1150.0</td>\n",
       "      <td>11.0</td>\n",
       "    </tr>\n",
       "    <tr>\n",
       "      <th>4</th>\n",
       "      <td>1.0</td>\n",
       "      <td>883</td>\n",
       "      <td>1</td>\n",
       "      <td>60</td>\n",
       "      <td>1</td>\n",
       "      <td>0.0</td>\n",
       "      <td>100.0</td>\n",
       "      <td>90.0</td>\n",
       "      <td>NaN</td>\n",
       "      <td>0.0</td>\n",
       "    </tr>\n",
       "  </tbody>\n",
       "</table>\n",
       "</div>"
      ],
      "text/plain": [
       "   inst  time  status  age  sex  ph.ecog  ph.karno  pat.karno  meal.cal  \\\n",
       "0   3.0   306       1   74    1      1.0      90.0      100.0    1175.0   \n",
       "1   3.0   455       1   68    1      0.0      90.0       90.0    1225.0   \n",
       "2   3.0  1010       0   56    1      0.0      90.0       90.0       NaN   \n",
       "3   5.0   210       1   57    1      1.0      90.0       60.0    1150.0   \n",
       "4   1.0   883       1   60    1      0.0     100.0       90.0       NaN   \n",
       "\n",
       "   wt.loss  \n",
       "0      NaN  \n",
       "1     15.0  \n",
       "2     15.0  \n",
       "3     11.0  \n",
       "4      0.0  "
      ]
     },
     "execution_count": 10,
     "metadata": {},
     "output_type": "execute_result"
    }
   ],
   "source": [
    "df.head()"
   ]
  },
  {
   "cell_type": "markdown",
   "id": "3c9f49e3",
   "metadata": {},
   "source": [
    "The probability of me surviving today depends on the probability of me surviving yesterday and the probability of me surviving today can never be greater than the probability of me surviving yesterday\n",
    "\n",
    "## Kaplan–Meier estimator\n",
    "\n",
    "A non-parametric statistic used to estimate the survival function from lifetime data.\n",
    "\n",
    "Fomula: $$S(t_{i}) = S(t_{i-1}) * (1 - \\frac{d_{i}}{n_{i}})$$ \n",
    "\n",
    "### How to read this formula?\n",
    "\n",
    "The probability of surviving at time t depends on the probability of surviving at t-1 ie the probability of surviving the day before, multiplied by the probability of surviving at time t. The result of \n",
    "\n",
    "$$(1 - \\frac{d_{i}}{n_{i}})$$ \n",
    "\n",
    "is always less than 1 and therefore the probability of survival will always be lower than that of the previous day."
   ]
  },
  {
   "cell_type": "markdown",
   "id": "bd0f70b5",
   "metadata": {},
   "source": [
    "## We can start to train and fit our model."
   ]
  },
  {
   "cell_type": "code",
   "execution_count": 15,
   "id": "db0a9e6b",
   "metadata": {},
   "outputs": [
    {
     "data": {
      "text/plain": [
       "<lifelines.KaplanMeierFitter:\"KM_estimate\", fitted with 228 total observations, 63 right-censored observations>"
      ]
     },
     "execution_count": 15,
     "metadata": {},
     "output_type": "execute_result"
    }
   ],
   "source": [
    "model = KaplanMeierFitter()\n",
    "model.fit(durations=df['time'], event_observed=df['status'])"
   ]
  },
  {
   "cell_type": "markdown",
   "id": "5cd0d630",
   "metadata": {},
   "source": [
    "### Censoring\n",
    "One aspect that makes survival analysis difficult is the concept of censoring. What this means is that when a subject under obsevation is censored we don’t know the true survival time. \n",
    "\n",
    "**Right-censoring**:\n",
    "Right-censoring, the most common type of censoring it happens when the subject under observation is still alive.\n",
    "\n",
    "**Left-censoting**:\n",
    "In contrast to right-censoring, left censoring occurs when the person’s true survival time is less than or equal to the observed survival time. \n",
    "\n",
    "**Interval-censoring**:\n",
    "Interval-censoring occurs in survival analysis when the time until an event of interest is not known precisely (and instead, only is known to fall into a particular interval)."
   ]
  },
  {
   "cell_type": "code",
   "execution_count": 16,
   "id": "115ca375",
   "metadata": {},
   "outputs": [
    {
     "data": {
      "text/html": [
       "<div>\n",
       "<style scoped>\n",
       "    .dataframe tbody tr th:only-of-type {\n",
       "        vertical-align: middle;\n",
       "    }\n",
       "\n",
       "    .dataframe tbody tr th {\n",
       "        vertical-align: top;\n",
       "    }\n",
       "\n",
       "    .dataframe thead th {\n",
       "        text-align: right;\n",
       "    }\n",
       "</style>\n",
       "<table border=\"1\" class=\"dataframe\">\n",
       "  <thead>\n",
       "    <tr style=\"text-align: right;\">\n",
       "      <th></th>\n",
       "      <th>removed</th>\n",
       "      <th>observed</th>\n",
       "      <th>censored</th>\n",
       "      <th>entrance</th>\n",
       "      <th>at_risk</th>\n",
       "    </tr>\n",
       "    <tr>\n",
       "      <th>event_at</th>\n",
       "      <th></th>\n",
       "      <th></th>\n",
       "      <th></th>\n",
       "      <th></th>\n",
       "      <th></th>\n",
       "    </tr>\n",
       "  </thead>\n",
       "  <tbody>\n",
       "    <tr>\n",
       "      <th>0.0</th>\n",
       "      <td>0</td>\n",
       "      <td>0</td>\n",
       "      <td>0</td>\n",
       "      <td>228</td>\n",
       "      <td>228</td>\n",
       "    </tr>\n",
       "    <tr>\n",
       "      <th>5.0</th>\n",
       "      <td>1</td>\n",
       "      <td>1</td>\n",
       "      <td>0</td>\n",
       "      <td>0</td>\n",
       "      <td>228</td>\n",
       "    </tr>\n",
       "    <tr>\n",
       "      <th>11.0</th>\n",
       "      <td>3</td>\n",
       "      <td>3</td>\n",
       "      <td>0</td>\n",
       "      <td>0</td>\n",
       "      <td>227</td>\n",
       "    </tr>\n",
       "    <tr>\n",
       "      <th>12.0</th>\n",
       "      <td>1</td>\n",
       "      <td>1</td>\n",
       "      <td>0</td>\n",
       "      <td>0</td>\n",
       "      <td>224</td>\n",
       "    </tr>\n",
       "    <tr>\n",
       "      <th>13.0</th>\n",
       "      <td>2</td>\n",
       "      <td>2</td>\n",
       "      <td>0</td>\n",
       "      <td>0</td>\n",
       "      <td>223</td>\n",
       "    </tr>\n",
       "    <tr>\n",
       "      <th>...</th>\n",
       "      <td>...</td>\n",
       "      <td>...</td>\n",
       "      <td>...</td>\n",
       "      <td>...</td>\n",
       "      <td>...</td>\n",
       "    </tr>\n",
       "    <tr>\n",
       "      <th>840.0</th>\n",
       "      <td>1</td>\n",
       "      <td>0</td>\n",
       "      <td>1</td>\n",
       "      <td>0</td>\n",
       "      <td>5</td>\n",
       "    </tr>\n",
       "    <tr>\n",
       "      <th>883.0</th>\n",
       "      <td>1</td>\n",
       "      <td>1</td>\n",
       "      <td>0</td>\n",
       "      <td>0</td>\n",
       "      <td>4</td>\n",
       "    </tr>\n",
       "    <tr>\n",
       "      <th>965.0</th>\n",
       "      <td>1</td>\n",
       "      <td>0</td>\n",
       "      <td>1</td>\n",
       "      <td>0</td>\n",
       "      <td>3</td>\n",
       "    </tr>\n",
       "    <tr>\n",
       "      <th>1010.0</th>\n",
       "      <td>1</td>\n",
       "      <td>0</td>\n",
       "      <td>1</td>\n",
       "      <td>0</td>\n",
       "      <td>2</td>\n",
       "    </tr>\n",
       "    <tr>\n",
       "      <th>1022.0</th>\n",
       "      <td>1</td>\n",
       "      <td>0</td>\n",
       "      <td>1</td>\n",
       "      <td>0</td>\n",
       "      <td>1</td>\n",
       "    </tr>\n",
       "  </tbody>\n",
       "</table>\n",
       "<p>187 rows × 5 columns</p>\n",
       "</div>"
      ],
      "text/plain": [
       "          removed  observed  censored  entrance  at_risk\n",
       "event_at                                                \n",
       "0.0             0         0         0       228      228\n",
       "5.0             1         1         0         0      228\n",
       "11.0            3         3         0         0      227\n",
       "12.0            1         1         0         0      224\n",
       "13.0            2         2         0         0      223\n",
       "...           ...       ...       ...       ...      ...\n",
       "840.0           1         0         1         0        5\n",
       "883.0           1         1         0         0        4\n",
       "965.0           1         0         1         0        3\n",
       "1010.0          1         0         1         0        2\n",
       "1022.0          1         0         1         0        1\n",
       "\n",
       "[187 rows x 5 columns]"
      ]
     },
     "execution_count": 16,
     "metadata": {},
     "output_type": "execute_result"
    }
   ],
   "source": [
    "model.event_table"
   ]
  },
  {
   "cell_type": "markdown",
   "id": "afa4ad3d",
   "metadata": {},
   "source": [
    "### Now that we have our model we can calculate the probability of survival for a specific event (day)."
   ]
  },
  {
   "cell_type": "code",
   "execution_count": 18,
   "id": "65034639",
   "metadata": {},
   "outputs": [
    {
     "name": "stdout",
     "output_type": "stream",
     "text": [
      "removed       1\n",
      "observed      1\n",
      "censored      0\n",
      "entrance      0\n",
      "at_risk     228\n",
      "Name: 5.0, dtype: int32\n"
     ]
    }
   ],
   "source": [
    "# calculating for specific event (day 5)\n",
    "day_5 = model.event_table.iloc[1, :]\n",
    "print(day_5)"
   ]
  },
  {
   "cell_type": "markdown",
   "id": "1010e751",
   "metadata": {},
   "source": [
    "**We ha 228 subject at risk and 1 subject was removed because he did not survive.**"
   ]
  },
  {
   "cell_type": "code",
   "execution_count": 21,
   "id": "478cf433",
   "metadata": {},
   "outputs": [
    {
     "data": {
      "text/plain": [
       "0.9956140350877193"
      ]
     },
     "execution_count": 21,
     "metadata": {},
     "output_type": "execute_result"
    }
   ],
   "source": [
    "# calculating the probability of the subject to survive \n",
    "surv_5 = 1 * (1- day_5.observed/day_5.at_risk)\n",
    "surv_5"
   ]
  },
  {
   "cell_type": "code",
   "execution_count": 22,
   "id": "542e8f93",
   "metadata": {},
   "outputs": [
    {
     "name": "stdout",
     "output_type": "stream",
     "text": [
      "removed       3\n",
      "observed      3\n",
      "censored      0\n",
      "entrance      0\n",
      "at_risk     227\n",
      "Name: 11.0, dtype: int32\n"
     ]
    }
   ],
   "source": [
    "# calculating for specific event (day 11)\n",
    "day_11 = model.event_table.iloc[2, :]\n",
    "print(day_11)"
   ]
  },
  {
   "cell_type": "markdown",
   "id": "ff660cc5",
   "metadata": {},
   "source": [
    "**We ha 227 subject at risk and 3 subjects were removed because he did not survive.**"
   ]
  },
  {
   "cell_type": "code",
   "execution_count": 23,
   "id": "42199d3a",
   "metadata": {},
   "outputs": [
    {
     "data": {
      "text/plain": [
       "0.9824561403508771"
      ]
     },
     "execution_count": 23,
     "metadata": {},
     "output_type": "execute_result"
    }
   ],
   "source": [
    "# calculating the probability of the subject to survive \n",
    "surv_11 = surv_5 * (1- day_11.observed/day_11.at_risk)\n",
    "surv_11"
   ]
  },
  {
   "cell_type": "markdown",
   "id": "2f641952",
   "metadata": {},
   "source": [
    "Obviously doing it this way would be very time consuming for the more distant events, but we can calculate an approximation:"
   ]
  },
  {
   "cell_type": "code",
   "execution_count": 24,
   "id": "ead011de",
   "metadata": {},
   "outputs": [
    {
     "data": {
      "text/plain": [
       "0.986784140969163"
      ]
     },
     "execution_count": 24,
     "metadata": {},
     "output_type": "execute_result"
    }
   ],
   "source": [
    "# Approximation\n",
    "surv_11_approximate = (day_11.at_risk - day_11.observed)/day_11.at_risk\n",
    "surv_11_approximate"
   ]
  },
  {
   "cell_type": "markdown",
   "id": "98947cc4",
   "metadata": {},
   "source": [
    "## Ploting the survival curve"
   ]
  },
  {
   "cell_type": "code",
   "execution_count": 28,
   "id": "157ff5b4",
   "metadata": {},
   "outputs": [
    {
     "data": {
      "image/png": "[encoded data removed]",
      "text/plain": [
       "<Figure size 864x360 with 1 Axes>"
      ]
     },
     "metadata": {
      "needs_background": "light"
     },
     "output_type": "display_data"
    }
   ],
   "source": [
    "model.plot(figsize=(12,5))\n",
    "plt.title('Keplan-Meier')\n",
    "plt.xlabel('Days')\n",
    "plt.ylabel('Survival')\n",
    "plt.show()"
   ]
  },
  {
   "cell_type": "markdown",
   "id": "b00f8c69",
   "metadata": {},
   "source": [
    "## Ploting the survival cumulative curve\n"
   ]
  },
  {
   "cell_type": "code",
   "execution_count": 29,
   "id": "f4d023b4",
   "metadata": {},
   "outputs": [
    {
     "data": {
      "image/png": "[encoded data removed]",
      "text/plain": [
       "<Figure size 864x360 with 1 Axes>"
      ]
     },
     "metadata": {
      "needs_background": "light"
     },
     "output_type": "display_data"
    }
   ],
   "source": [
    "model.plot_cumulative_density(figsize=(12,5))\n",
    "plt.title('Cumulative Keplan-Meier')\n",
    "plt.xlabel('Days')\n",
    "plt.ylabel('Survival')\n",
    "plt.show()"
   ]
  },
  {
   "cell_type": "markdown",
   "id": "d6855fc7",
   "metadata": {},
   "source": [
    "# Is there a difference between females and males?\n",
    "\n",
    "To answer this question we can use the **Log Rank Test**"
   ]
  },
  {
   "cell_type": "code",
   "execution_count": 30,
   "id": "25764f29",
   "metadata": {},
   "outputs": [],
   "source": [
    "# creting two DataFrame\n",
    "\n",
    "male = df.query('sex == 1')\n",
    "female = df.query('sex == 2')"
   ]
  },
  {
   "cell_type": "code",
   "execution_count": 31,
   "id": "76f3d77e",
   "metadata": {},
   "outputs": [
    {
     "data": {
      "text/plain": [
       "<lifelines.KaplanMeierFitter:\"KM_estimate\", fitted with 90 total observations, 37 right-censored observations>"
      ]
     },
     "execution_count": 31,
     "metadata": {},
     "output_type": "execute_result"
    }
   ],
   "source": [
    "# Kaplan-Meier per gender\n",
    "model_males = KaplanMeierFitter()\n",
    "model_males.fit(durations=male['time'], event_observed=male['status'])\n",
    "\n",
    "model_females = KaplanMeierFitter()\n",
    "model_females.fit(durations=female['time'], event_observed=female['status'])"
   ]
  },
  {
   "cell_type": "code",
   "execution_count": 36,
   "id": "1523f87b",
   "metadata": {},
   "outputs": [
    {
     "data": {
      "image/png": "[encoded data removed]",
      "text/plain": [
       "<Figure size 864x360 with 1 Axes>"
      ]
     },
     "metadata": {
      "needs_background": "light"
     },
     "output_type": "display_data"
    }
   ],
   "source": [
    "model_males.plot(figsize=(12,5), label='Males')\n",
    "model_females.plot(label='Females')\n",
    "plt.title('Keplan-Meier Males vs Females')\n",
    "plt.xlabel('Days')\n",
    "plt.ylabel('Survival')\n",
    "plt.show()"
   ]
  },
  {
   "cell_type": "code",
   "execution_count": 40,
   "id": "0ef6df4c",
   "metadata": {},
   "outputs": [],
   "source": [
    "# Log Rank Test\n",
    "results  = logrank_test(durations_A=male['time'], durations_B=female['time'], event_observed_A=male['status'], event_observed_B=female['status'])"
   ]
  },
  {
   "cell_type": "code",
   "execution_count": 41,
   "id": "3e9acef1",
   "metadata": {},
   "outputs": [
    {
     "data": {
      "text/html": [
       "<div>\n",
       "<style scoped>\n",
       "    .dataframe tbody tr th:only-of-type {\n",
       "        vertical-align: middle;\n",
       "    }\n",
       "\n",
       "    .dataframe tbody tr th {\n",
       "        vertical-align: top;\n",
       "    }\n",
       "\n",
       "    .dataframe thead th {\n",
       "        text-align: right;\n",
       "    }\n",
       "</style>\n",
       "<table border=\"1\" class=\"dataframe\">\n",
       "  <tbody>\n",
       "    <tr>\n",
       "      <th>t_0</th>\n",
       "      <td>-1</td>\n",
       "    </tr>\n",
       "    <tr>\n",
       "      <th>null_distribution</th>\n",
       "      <td>chi squared</td>\n",
       "    </tr>\n",
       "    <tr>\n",
       "      <th>degrees_of_freedom</th>\n",
       "      <td>1</td>\n",
       "    </tr>\n",
       "    <tr>\n",
       "      <th>test_name</th>\n",
       "      <td>logrank_test</td>\n",
       "    </tr>\n",
       "  </tbody>\n",
       "</table>\n",
       "</div><table border=\"1\" class=\"dataframe\">\n",
       "  <thead>\n",
       "    <tr style=\"text-align: right;\">\n",
       "      <th></th>\n",
       "      <th>test_statistic</th>\n",
       "      <th>p</th>\n",
       "      <th>-log2(p)</th>\n",
       "    </tr>\n",
       "  </thead>\n",
       "  <tbody>\n",
       "    <tr>\n",
       "      <th>0</th>\n",
       "      <td>10.33</td>\n",
       "      <td>&lt;0.005</td>\n",
       "      <td>9.57</td>\n",
       "    </tr>\n",
       "  </tbody>\n",
       "</table>"
      ],
      "text/latex": [
       "\\begin{tabular}{lrrr}\n",
       " & test_statistic & p & -log2(p) \\\\\n",
       "0 & 10.33 & 0.00 & 9.57 \\\\\n",
       "\\end{tabular}\n"
      ],
      "text/plain": [
       "<lifelines.StatisticalResult: logrank_test>\n",
       "               t_0 = -1\n",
       " null_distribution = chi squared\n",
       "degrees_of_freedom = 1\n",
       "         test_name = logrank_test\n",
       "\n",
       "---\n",
       " test_statistic      p  -log2(p)\n",
       "          10.33 <0.005      9.57"
      ]
     },
     "metadata": {},
     "output_type": "display_data"
    }
   ],
   "source": [
    "results.print_summary()"
   ]
  },
  {
   "cell_type": "code",
   "execution_count": 43,
   "id": "d85361ce",
   "metadata": {},
   "outputs": [
    {
     "name": "stdout",
     "output_type": "stream",
     "text": [
      "Rejected null H. The groups are different\n"
     ]
    }
   ],
   "source": [
    "alpha = 0.05\n",
    "pvalue= results.p_value\n",
    "if pvalue > alpha:\n",
    "    print('Failed to reject null H. There is no difference between the group')\n",
    "else:\n",
    "    print('Rejected null H. The groups are different')"
   ]
  },
  {
   "cell_type": "markdown",
   "id": "51690f1f",
   "metadata": {},
   "source": [
    "**The log-rank test allowed us to answer the question: there is a difference in the probability of survival between men and women, with women showing a higher probability and this difference is statistically significant.**"
   ]
  },
  {
   "cell_type": "code",
   "execution_count": null,
   "id": "45ad28f1",
   "metadata": {},
   "outputs": [],
   "source": []
  }
 ],
 "metadata": {
  "kernelspec": {
   "display_name": "Python 3 (ipykernel)",
   "language": "python",
   "name": "python3"
  },
  "language_info": {
   "codemirror_mode": {
    "name": "ipython",
    "version": 3
   },
   "file_extension": ".py",
   "mimetype": "text/x-python",
   "name": "python",
   "nbconvert_exporter": "python",
   "pygments_lexer": "ipython3",
   "version": "3.9.12"
  }
 },
 "nbformat": 4,
 "nbformat_minor": 5
}
